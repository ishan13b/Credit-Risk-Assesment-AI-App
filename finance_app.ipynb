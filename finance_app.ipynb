{
 "cells": [
  {
   "cell_type": "code",
   "execution_count": 1,
   "metadata": {},
   "outputs": [
    {
     "name": "stderr",
     "output_type": "stream",
     "text": [
      "/Users/jaysinha/opt/anaconda3/envs/ml/lib/python3.10/site-packages/tqdm/auto.py:21: TqdmWarning: IProgress not found. Please update jupyter and ipywidgets. See https://ipywidgets.readthedocs.io/en/stable/user_install.html\n",
      "  from .autonotebook import tqdm as notebook_tqdm\n"
     ]
    },
    {
     "name": "stdout",
     "output_type": "stream",
     "text": [
      "Checking whether there is an H2O instance running at http://localhost:54321..... not found.\n",
      "Attempting to start a local H2O server...\n",
      "  Java Version: java version \"11.0.4\" 2019-07-16 LTS; Java(TM) SE Runtime Environment 18.9 (build 11.0.4+10-LTS); Java HotSpot(TM) 64-Bit Server VM 18.9 (build 11.0.4+10-LTS, mixed mode)\n",
      "  Starting server from /Users/jaysinha/opt/anaconda3/envs/ml/lib/python3.10/site-packages/h2o/backend/bin/h2o.jar\n",
      "  Ice root: /var/folders/px/r4k9m88124n08zkn4dpm3ktc0000gn/T/tmpa3a0netm\n",
      "  JVM stdout: /var/folders/px/r4k9m88124n08zkn4dpm3ktc0000gn/T/tmpa3a0netm/h2o_jaysinha_started_from_python.out\n",
      "  JVM stderr: /var/folders/px/r4k9m88124n08zkn4dpm3ktc0000gn/T/tmpa3a0netm/h2o_jaysinha_started_from_python.err\n",
      "  Server is running at http://127.0.0.1:54321\n",
      "Connecting to H2O server at http://127.0.0.1:54321 ... successful.\n"
     ]
    },
    {
     "data": {
      "text/html": [
       "\n",
       "<style>\n",
       "\n",
       "#h2o-table-1.h2o-container {\n",
       "  overflow-x: auto;\n",
       "}\n",
       "#h2o-table-1 .h2o-table {\n",
       "  /* width: 100%; */\n",
       "  margin-top: 1em;\n",
       "  margin-bottom: 1em;\n",
       "}\n",
       "#h2o-table-1 .h2o-table caption {\n",
       "  white-space: nowrap;\n",
       "  caption-side: top;\n",
       "  text-align: left;\n",
       "  /* margin-left: 1em; */\n",
       "  margin: 0;\n",
       "  font-size: larger;\n",
       "}\n",
       "#h2o-table-1 .h2o-table thead {\n",
       "  white-space: nowrap; \n",
       "  position: sticky;\n",
       "  top: 0;\n",
       "  box-shadow: 0 -1px inset;\n",
       "}\n",
       "#h2o-table-1 .h2o-table tbody {\n",
       "  overflow: auto;\n",
       "}\n",
       "#h2o-table-1 .h2o-table th,\n",
       "#h2o-table-1 .h2o-table td {\n",
       "  text-align: right;\n",
       "  /* border: 1px solid; */\n",
       "}\n",
       "#h2o-table-1 .h2o-table tr:nth-child(even) {\n",
       "  /* background: #F5F5F5 */\n",
       "}\n",
       "\n",
       "</style>      \n",
       "<div id=\"h2o-table-1\" class=\"h2o-container\">\n",
       "  <table class=\"h2o-table\">\n",
       "    <caption></caption>\n",
       "    <thead></thead>\n",
       "    <tbody><tr><td>H2O_cluster_uptime:</td>\n",
       "<td>04 secs</td></tr>\n",
       "<tr><td>H2O_cluster_timezone:</td>\n",
       "<td>America/Los_Angeles</td></tr>\n",
       "<tr><td>H2O_data_parsing_timezone:</td>\n",
       "<td>UTC</td></tr>\n",
       "<tr><td>H2O_cluster_version:</td>\n",
       "<td>3.46.0.5</td></tr>\n",
       "<tr><td>H2O_cluster_version_age:</td>\n",
       "<td>5 days</td></tr>\n",
       "<tr><td>H2O_cluster_name:</td>\n",
       "<td>H2O_from_python_jaysinha_ff0cf9</td></tr>\n",
       "<tr><td>H2O_cluster_total_nodes:</td>\n",
       "<td>1</td></tr>\n",
       "<tr><td>H2O_cluster_free_memory:</td>\n",
       "<td>4 Gb</td></tr>\n",
       "<tr><td>H2O_cluster_total_cores:</td>\n",
       "<td>10</td></tr>\n",
       "<tr><td>H2O_cluster_allowed_cores:</td>\n",
       "<td>10</td></tr>\n",
       "<tr><td>H2O_cluster_status:</td>\n",
       "<td>locked, healthy</td></tr>\n",
       "<tr><td>H2O_connection_url:</td>\n",
       "<td>http://127.0.0.1:54321</td></tr>\n",
       "<tr><td>H2O_connection_proxy:</td>\n",
       "<td>{\"http\": null, \"https\": null}</td></tr>\n",
       "<tr><td>H2O_internal_security:</td>\n",
       "<td>False</td></tr>\n",
       "<tr><td>Python_version:</td>\n",
       "<td>3.10.14 final</td></tr></tbody>\n",
       "  </table>\n",
       "</div>\n"
      ],
      "text/plain": [
       "--------------------------  -------------------------------\n",
       "H2O_cluster_uptime:         04 secs\n",
       "H2O_cluster_timezone:       America/Los_Angeles\n",
       "H2O_data_parsing_timezone:  UTC\n",
       "H2O_cluster_version:        3.46.0.5\n",
       "H2O_cluster_version_age:    5 days\n",
       "H2O_cluster_name:           H2O_from_python_jaysinha_ff0cf9\n",
       "H2O_cluster_total_nodes:    1\n",
       "H2O_cluster_free_memory:    4 Gb\n",
       "H2O_cluster_total_cores:    10\n",
       "H2O_cluster_allowed_cores:  10\n",
       "H2O_cluster_status:         locked, healthy\n",
       "H2O_connection_url:         http://127.0.0.1:54321\n",
       "H2O_connection_proxy:       {\"http\": null, \"https\": null}\n",
       "H2O_internal_security:      False\n",
       "Python_version:             3.10.14 final\n",
       "--------------------------  -------------------------------"
      ]
     },
     "metadata": {},
     "output_type": "display_data"
    }
   ],
   "source": [
    "from model_utils import *\n",
    "from tools import *\n",
    "from llama_index.core.llms import ChatMessage\n",
    "from llama_index.core.tools import BaseTool, FunctionTool\n",
    "from llama_index.core.agent import ReActAgent"
   ]
  },
  {
   "cell_type": "code",
   "execution_count": 2,
   "metadata": {},
   "outputs": [],
   "source": [
    "ticker_fetch_tool = FunctionTool.from_defaults(fn=get_ticker_data, description=\"Tool used for fetching information about the ticker. Also returns max debt and debt limit.\")\n",
    "loan_predict = FunctionTool.from_defaults(fn=predict_for_ticker, description=\"Tool used for predicting whether or not to give loan to a company with a certain ticker.\")"
   ]
  },
  {
   "cell_type": "code",
   "execution_count": 3,
   "metadata": {},
   "outputs": [],
   "source": [
    "agent = ReActAgent.from_tools(\n",
    "    [ticker_fetch_tool, loan_predict],\n",
    "    llm=llm_70b,\n",
    "    verbose=True,\n",
    ")"
   ]
  },
  {
   "cell_type": "code",
   "execution_count": 4,
   "metadata": {},
   "outputs": [
    {
     "name": "stdout",
     "output_type": "stream",
     "text": [
      "> Running step 16c81d68-2ed3-4f15-ae7a-5e4983495da0. Step input: Tell me some details about AAPL ticker\n",
      "\u001b[1;3;38;5;200mThought: The user wants to know some details about the AAPL ticker. I will use the get_ticker_data tool to fetch this information.\n",
      "Action: get_ticker_data\n",
      "Action Input: {'ticker': 'AAPL'}\n",
      "\u001b[0m\u001b[1;3;34mObservation: {'Total Assets': [352583000000.0], 'Total Liabilities': [290437000000.0], 'Total Equity': [62146000000.0], 'Total Debt': [123930000000.0], 'Total Revenue': [383285000000.0], 'Net Income': [96995000000.0], 'EBITDA': [129188000000.0], 'Debt to Equity Ratio': [4.673462491552152], 'Current Ratio': [0.9880116717592975], 'ROA': [0.27509834563776475], 'ROE': [1.5607601454639075], 'Profit Margin': [0.2530623426432028], 'Interest Coverage Ratio': [29.918382913806255], 'Debt to EBITDA Ratio': [4.673462491552152], 'Market Cap': [3357217390592], 'Max Debt': [397059318000.0], 'Debt Limit': [273129318000.0]}\n",
      "\u001b[0m> Running step a2c41fba-205c-4fc4-b391-0677c730699e. Step input: None\n",
      "\u001b[1;3;38;5;200mThought: I have received the details about the AAPL ticker. I can now answer the user's question without using any more tools.\n",
      "Answer: The AAPL ticker has total assets of $352.583 billion, total liabilities of $290.437 billion, total equity of $62.146 billion, total debt of $123.93 billion, and a debt to equity ratio of 4.67. Additionally, the company has a current ratio of 0.99, a return on assets (ROA) of 0.28, a return on equity (ROE) of 1.56, and a profit margin of 0.25. The company's market capitalization is $3.357 trillion, with a maximum debt of $397.06 billion and a debt limit of $273.13 billion.\n",
      "\u001b[0mThe AAPL ticker has total assets of $352.583 billion, total liabilities of $290.437 billion, total equity of $62.146 billion, total debt of $123.93 billion, and a debt to equity ratio of 4.67. Additionally, the company has a current ratio of 0.99, a return on assets (ROA) of 0.28, a return on equity (ROE) of 1.56, and a profit margin of 0.25. The company's market capitalization is $3.357 trillion, with a maximum debt of $397.06 billion and a debt limit of $273.13 billion.\n"
     ]
    }
   ],
   "source": [
    "\n",
    "response = agent.chat(\"Tell me some details about AAPL ticker\")\n",
    "print(response.response)"
   ]
  },
  {
   "cell_type": "code",
   "execution_count": 5,
   "metadata": {},
   "outputs": [
    {
     "name": "stdout",
     "output_type": "stream",
     "text": [
      "> Running step c89b3a44-035e-4ea1-8a15-0dd4add61280. Step input: Tell me if I can give loan to a company with ticker BIDU. What can you tell me about the decision based on Max Debt and Total Debt?\n",
      "\u001b[1;3;38;5;200mThought: I need to use a tool to help me answer the question about BIDU's loan decision and its debt details.\n",
      "Action: get_ticker_data\n",
      "Action Input: {'ticker': 'BIDU'}\n",
      "\u001b[0m\u001b[1;3;34mObservation: {'Total Assets': [406759000000.0], 'Total Liabilities': [144151000000.0], 'Total Equity': [262608000000.0], 'Total Debt': [84595000000.0], 'Total Revenue': [134598000000.0], 'Net Income': [20315000000.0], 'EBITDA': [49903000000.0], 'Debt to Equity Ratio': [0.5489208249558277], 'Current Ratio': [3.011798406822671], 'ROA': [0.0499435783842521], 'ROE': [0.07735864863218181], 'Profit Margin': [0.1509309202216972], 'Interest Coverage Ratio': [8.758004926108374], 'Debt to EBITDA Ratio': [0.5489208249558277], 'Market Cap': [28972857344], 'Max Debt': [153376870500.0], 'Debt Limit': [68781870500.0]}\n",
      "\u001b[0m> Running step 0ee80f47-a519-47db-bf47-9f08bf53af17. Step input: None\n",
      "\u001b[1;3;38;5;200mThought: I have the debt details of BIDU. Now I need to use a tool to help me answer the question about the loan decision.\n",
      "Action: predict_for_ticker\n",
      "Action Input: {'ticker': 'BIDU'}\n",
      "\u001b[0mParse progress: |████████████████████████████████████████████████████████████████| (done) 100%\n",
      "gbm prediction progress: |███████████████████████████████████████████████████████| (done) 100%\n",
      "\n",
      "Predictions using the loaded model:\n",
      "  predict        p0        p1\n",
      "        0  0.889538  0.110462\n",
      "[1 row x 3 columns]\n",
      "\n",
      "\u001b[1;3;34mObservation:   predict        p0        p1\n",
      "        0  0.889538  0.110462\n",
      "[1 row x 3 columns]\n",
      "\n",
      "\u001b[0m> Running step 663db261-fc65-44f8-819b-f4342af9ad5e. Step input: None\n",
      "\u001b[1;3;38;5;200mThought: I have the prediction result and the debt details of BIDU. Now I can answer the question about the loan decision based on the Max Debt and Total Debt.\n",
      "Answer: Based on the prediction result, it seems that the model is 88.95% confident that giving a loan to BIDU is a good decision. Looking at the debt details, the company's Total Debt ($84.595 billion) is less than its Max Debt ($153.377 billion), which suggests that the company has some room for taking on more debt. Additionally, the Debt to Equity Ratio (0.55) is relatively low, indicating that the company is not overly leveraged. Overall, it seems that giving a loan to BIDU might be a good decision, but it's always important to consider other factors and do further analysis before making a final decision.\n",
      "\u001b[0mBased on the prediction result, it seems that the model is 88.95% confident that giving a loan to BIDU is a good decision. Looking at the debt details, the company's Total Debt ($84.595 billion) is less than its Max Debt ($153.377 billion), which suggests that the company has some room for taking on more debt. Additionally, the Debt to Equity Ratio (0.55) is relatively low, indicating that the company is not overly leveraged. Overall, it seems that giving a loan to BIDU might be a good decision, but it's always important to consider other factors and do further analysis before making a final decision.\n"
     ]
    }
   ],
   "source": [
    "response = agent.chat(\"Tell me if I can give loan to a company with ticker BIDU. What can you tell me about the decision based on Max Debt and Total Debt?\")\n",
    "print(str(response))"
   ]
  },
  {
   "cell_type": "code",
   "execution_count": 6,
   "metadata": {},
   "outputs": [],
   "source": [
    "# 1. Converste to check what needs to be done. [Optional] - Give search engine results on Company.\n",
    "\n",
    "# 2. Company ticker -> Highlight Information\n",
    "\n",
    "# 3. Model Call to check loan or not, how much more debt company can take?"
   ]
  },
  {
   "cell_type": "code",
   "execution_count": 7,
   "metadata": {},
   "outputs": [],
   "source": [
    "# What tools?\n",
    "\n",
    "# 1. Yahoo Finance API Fetch given a ticker\n",
    "# 2. Tool to pass Ticker details and get information on whether to give Loan, debt etc.\n",
    "# 3. [Optional] Do search engine call and tell about the company."
   ]
  }
 ],
 "metadata": {
  "kernelspec": {
   "display_name": "ml",
   "language": "python",
   "name": "python3"
  },
  "language_info": {
   "codemirror_mode": {
    "name": "ipython",
    "version": 3
   },
   "file_extension": ".py",
   "mimetype": "text/x-python",
   "name": "python",
   "nbconvert_exporter": "python",
   "pygments_lexer": "ipython3",
   "version": "3.10.14"
  }
 },
 "nbformat": 4,
 "nbformat_minor": 2
}
